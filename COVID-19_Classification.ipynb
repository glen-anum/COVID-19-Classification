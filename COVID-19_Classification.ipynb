{
 "cells": [
  {
   "cell_type": "code",
   "execution_count": 2,
   "metadata": {},
   "outputs": [],
   "source": [
    "#Importing Library\n",
    "import tensorflow as tf\n",
    "from tensorflow import keras\n",
    "from tensorflow.keras.models import Sequential\n",
    "from tensorflow.keras.preprocessing.image import ImageDataGenerator\n",
    "\n",
    "from sklearn.metrics import classification_report\n",
    "from sklearn.metrics import confusion_matrix\n",
    "\n",
    "from tensorflow.keras.callbacks import EarlyStopping\n",
    "from tensorflow.keras import layers\n",
    "\n",
    "import matplotlib.pyplot as plt\n",
    "import numpy"
   ]
  },
  {
   "cell_type": "code",
   "execution_count": 4,
   "metadata": {},
   "outputs": [],
   "source": [
    "#Construct an ImageDataGenerator object:\n",
    "DIRECTORY = \"Covid19-dataset/train\"\n",
    "CLASS_MODE = \"categorical\"\n",
    "COLOR_MODE = \"grayscale\"\n",
    "TARGET_SIZE = (256,256)\n",
    "BATCH_SIZE = 32"
   ]
  },
  {
   "cell_type": "code",
   "execution_count": 5,
   "metadata": {},
   "outputs": [],
   "source": [
    "training_data_generator = ImageDataGenerator(rescale=1.0/255,\n",
    "\n",
    "#Randomly increase or decrease the size of the image by up to 10%\n",
    "zoom_range=0.1, \n",
    "\n",
    "#Randomly rotate the image between -25,25 degrees\n",
    "rotation_range=25, \n",
    "\n",
    "#Shift the image along its width by up to +/- 5%\n",
    "width_shift_range=0.05, \n",
    "\n",
    "#Shift the image along its height by up to +/- 5%\n",
    "height_shift_range=0.05,\n",
    "\n",
    ")"
   ]
  },
  {
   "cell_type": "code",
   "execution_count": 6,
   "metadata": {},
   "outputs": [
    {
     "name": "stdout",
     "output_type": "stream",
     "text": [
      "Found 251 images belonging to 3 classes.\n",
      "\n",
      "Loading validation data...\n"
     ]
    }
   ],
   "source": [
    "validation_data_generator = ImageDataGenerator()\n",
    "\n",
    "training_iterator = training_data_generator.flow_from_directory(DIRECTORY,class_mode='categorical',color_mode='grayscale',batch_size=BATCH_SIZE)#, subset='training')\n",
    "\n",
    "training_iterator.next()\n",
    "\n",
    "print(\"\\nLoading validation data...\")"
   ]
  },
  {
   "cell_type": "code",
   "execution_count": 8,
   "metadata": {},
   "outputs": [
    {
     "name": "stdout",
     "output_type": "stream",
     "text": [
      "Found 251 images belonging to 3 classes.\n",
      "{'featurewise_center': False, 'samplewise_center': False, 'featurewise_std_normalization': False, 'samplewise_std_normalization': False, 'zca_whitening': False, 'zca_epsilon': 1e-06, 'rotation_range': 25, 'width_shift_range': 0.05, 'height_shift_range': 0.05, 'shear_range': 0.0, 'zoom_range': [0.9, 1.1], 'channel_shift_range': 0.0, 'fill_mode': 'nearest', 'cval': 0.0, 'horizontal_flip': False, 'vertical_flip': False, 'rescale': 0.00392156862745098, 'preprocessing_function': None, 'dtype': 'float32', 'interpolation_order': 1, 'data_format': 'channels_last', 'channel_axis': 3, 'row_axis': 1, 'col_axis': 2, '_validation_split': 0.0, 'mean': None, 'std': None, 'principal_components': None, 'brightness_range': None}\n"
     ]
    }
   ],
   "source": [
    "validation_iterator = validation_data_generator.flow_from_directory(DIRECTORY,class_mode='categorical', color_mode='grayscale',batch_size=BATCH_SIZE)#, subset='validation')\n",
    "\n",
    "#Print its attributes:\n",
    "print(training_data_generator.__dict__)"
   ]
  },
  {
   "cell_type": "code",
   "execution_count": 9,
   "metadata": {},
   "outputs": [],
   "source": [
    "def design_model(training_data):\n",
    "    # sequential model\n",
    "    model = Sequential()\n",
    "    # add input layer with grayscale image shape\n",
    "    model.add(tf.keras.Input(shape=(256, 256, 1)))\n",
    "    # convolutional hidden layers with relu functions\n",
    "    # maxpooling layers and dropout layers as well\n",
    "    model.add(layers.Conv2D(5, 5, strides=3, activation=\"relu\")) \n",
    "    model.add(layers.MaxPooling2D(\n",
    "        pool_size=(2, 2), strides=(2,2)))\n",
    "    model.add(layers.Dropout(0.1))\n",
    "    model.add(layers.Conv2D(3, 3, strides=1, activation=\"relu\")) \n",
    "    model.add(layers.MaxPooling2D(\n",
    "        pool_size=(2, 2), strides=(2,2)))\n",
    "    model.add(layers.Dropout(0.2))\n",
    "\n",
    "    # experimenting with extra layesr\n",
    "    #model.add(tf.keras.layers.Conv2D(3, 3, strides=1, activation=\"relu\"))\n",
    "    #model.add(tf.keras.layers.Conv2D(1, 1, strides=1, activation=\"relu\"))\n",
    "    #model.add(tf.keras.layers.Dropout(0.1))\n",
    "\n",
    "    model.add(layers.Flatten())\n",
    "    # output layer with softmax activation function\n",
    "    model.add(layers.Dense(3,activation=\"softmax\"))\n",
    "    # compile model with Adam optimizer\n",
    "    # loss function is categorical crossentropy\n",
    "    # metrics are categorical accuracy and AUC\n",
    "    print(\"\\nCompiling model...\")\n",
    "    model.compile(optimizer=tf.keras.optimizers.Adam(learning_rate=.001), loss=tf.keras.losses.CategoricalCrossentropy(), metrics=[tf.keras.metrics.CategoricalAccuracy(),tf.keras.metrics.AUC()],)\n",
    "    # summarize model\n",
    "    model.summary()\n",
    "    return model"
   ]
  },
  {
   "cell_type": "code",
   "execution_count": 10,
   "metadata": {},
   "outputs": [
    {
     "name": "stdout",
     "output_type": "stream",
     "text": [
      "\n",
      "Compiling model...\n",
      "Model: \"sequential\"\n",
      "_________________________________________________________________\n",
      "Layer (type)                 Output Shape              Param #   \n",
      "=================================================================\n",
      "conv2d (Conv2D)              (None, 84, 84, 5)         130       \n",
      "_________________________________________________________________\n",
      "max_pooling2d (MaxPooling2D) (None, 42, 42, 5)         0         \n",
      "_________________________________________________________________\n",
      "dropout (Dropout)            (None, 42, 42, 5)         0         \n",
      "_________________________________________________________________\n",
      "conv2d_1 (Conv2D)            (None, 40, 40, 3)         138       \n",
      "_________________________________________________________________\n",
      "max_pooling2d_1 (MaxPooling2 (None, 20, 20, 3)         0         \n",
      "_________________________________________________________________\n",
      "dropout_1 (Dropout)          (None, 20, 20, 3)         0         \n",
      "_________________________________________________________________\n",
      "flatten (Flatten)            (None, 1200)              0         \n",
      "_________________________________________________________________\n",
      "dense (Dense)                (None, 3)                 3603      \n",
      "=================================================================\n",
      "Total params: 3,871\n",
      "Trainable params: 3,871\n",
      "Non-trainable params: 0\n",
      "_________________________________________________________________\n",
      "\n",
      "Training model...\n",
      "Epoch 1/5\n",
      "8/7 [==============================] - 3s 326ms/step - loss: 1.1242 - categorical_accuracy: 0.3307 - auc: 0.4641 - val_loss: 40.3027 - val_categorical_accuracy: 0.4422 - val_auc: 0.5817\n",
      "Epoch 2/5\n",
      "8/7 [==============================] - 2s 199ms/step - loss: 1.0655 - categorical_accuracy: 0.4462 - auc: 0.6123 - val_loss: 77.7292 - val_categorical_accuracy: 0.4422 - val_auc: 0.5817\n",
      "Epoch 3/5\n",
      "8/7 [==============================] - 2s 193ms/step - loss: 1.0561 - categorical_accuracy: 0.4422 - auc: 0.6370 - val_loss: 69.1725 - val_categorical_accuracy: 0.4422 - val_auc: 0.5817\n",
      "Epoch 4/5\n",
      "8/7 [==============================] - 2s 199ms/step - loss: 1.0113 - categorical_accuracy: 0.4861 - auc: 0.6979 - val_loss: 31.8135 - val_categorical_accuracy: 0.4582 - val_auc: 0.5942\n",
      "Epoch 5/5\n",
      "8/7 [==============================] - 2s 194ms/step - loss: 0.9761 - categorical_accuracy: 0.5976 - auc: 0.7834 - val_loss: 31.7342 - val_categorical_accuracy: 0.5657 - val_auc: 0.6733\n"
     ]
    }
   ],
   "source": [
    "# use model function\n",
    "model = design_model(training_iterator)\n",
    "\n",
    "# early stopping implementation\n",
    "es = EarlyStopping(monitor='val_auc', mode='min', verbose=1, patience=20)\n",
    "\n",
    "print(\"\\nTraining model...\")\n",
    "# fit the model with 10 ephochs and early stopping\n",
    "history =model.fit(\n",
    "        training_iterator,\n",
    "        steps_per_epoch=training_iterator.samples/BATCH_SIZE, epochs=5,\n",
    "        validation_data=validation_iterator,\n",
    "        validation_steps=validation_iterator.samples/BATCH_SIZE,\n",
    "        callbacks=[es])"
   ]
  },
  {
   "cell_type": "code",
   "execution_count": 11,
   "metadata": {},
   "outputs": [
    {
     "data": {
      "image/png": "[encoded data removed]",
      "text/plain": [
       "<Figure size 432x288 with 2 Axes>"
      ]
     },
     "metadata": {
      "needs_background": "light"
     },
     "output_type": "display_data"
    }
   ],
   "source": [
    "# plotting categorical and validation accuracy over epochs\n",
    "fig = plt.figure()\n",
    "ax1 = fig.add_subplot(2, 1, 1)\n",
    "ax1.plot(history.history['categorical_accuracy'])\n",
    "ax1.plot(history.history['val_categorical_accuracy'])\n",
    "ax1.set_title('model accuracy')\n",
    "ax1.set_xlabel('epoch')\n",
    "ax1.set_ylabel('accuracy')\n",
    "ax1.legend(['train', 'validation'], loc='upper left')\n",
    "\n",
    "# plotting auc and validation auc over epochs\n",
    "ax2 = fig.add_subplot(2, 1, 2)\n",
    "ax2.plot(history.history['auc'])\n",
    "ax2.plot(history.history['val_auc'])\n",
    "ax2.set_title('model auc')\n",
    "ax2.set_xlabel('epoch')\n",
    "ax2.set_ylabel('auc')\n",
    "ax2.legend(['train', 'validation'], loc='upper left')\n",
    "\n",
    "plt.show()\n"
   ]
  },
  {
   "cell_type": "code",
   "execution_count": 12,
   "metadata": {},
   "outputs": [
    {
     "name": "stdout",
     "output_type": "stream",
     "text": [
      "              precision    recall  f1-score   support\n",
      "\n",
      "       Covid       0.46      0.89      0.61       111\n",
      "      Normal       1.00      0.04      0.08        70\n",
      "   Pneumonia       0.28      0.13      0.18        70\n",
      "\n",
      "    accuracy                           0.44       251\n",
      "   macro avg       0.58      0.35      0.29       251\n",
      "weighted avg       0.56      0.44      0.34       251\n",
      "\n",
      "[[99  0 12]\n",
      " [56  3 11]\n",
      " [61  0  9]]\n"
     ]
    }
   ],
   "source": [
    "test_steps_per_epoch = numpy.math.ceil(validation_iterator.samples / validation_iterator.batch_size)\n",
    "predictions = model.predict(validation_iterator, steps=test_steps_per_epoch)\n",
    "test_steps_per_epoch = numpy.math.ceil(validation_iterator.samples / validation_iterator.batch_size)\n",
    "predicted_classes = numpy.argmax(predictions, axis=1)\n",
    "true_classes = validation_iterator.classes\n",
    "class_labels = list(validation_iterator.class_indices.keys())\n",
    "report = classification_report(true_classes, predicted_classes, target_names=class_labels)\n",
    "print(report)   \n",
    "\n",
    "cm=confusion_matrix(true_classes,predicted_classes)\n",
    "print(cm)\n"
   ]
  },
  {
   "cell_type": "code",
   "execution_count": null,
   "metadata": {},
   "outputs": [],
   "source": []
  }
 ],
 "metadata": {
  "kernelspec": {
   "display_name": "Python 3",
   "language": "python",
   "name": "python3"
  },
  "language_info": {
   "codemirror_mode": {
    "name": "ipython",
    "version": 3
   },
   "file_extension": ".py",
   "mimetype": "text/x-python",
   "name": "python",
   "nbconvert_exporter": "python",
   "pygments_lexer": "ipython3",
   "version": "3.8.3"
  }
 },
 "nbformat": 4,
 "nbformat_minor": 4
}
